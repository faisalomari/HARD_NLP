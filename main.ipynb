{
 "cells": [
  {
   "cell_type": "markdown",
   "metadata": {},
   "source": []
  },
  {
   "cell_type": "code",
   "execution_count": 1,
   "metadata": {},
   "outputs": [
    {
     "name": "stderr",
     "output_type": "stream",
     "text": [
      "2024-10-02 10:12:33.768001: W tensorflow/compiler/tf2tensorrt/utils/py_utils.cc:38] TF-TRT Warning: Could not find TensorRT\n"
     ]
    }
   ],
   "source": [
    "#IMPORTS\n",
    "import pandas as pd\n",
    "from sklearn.model_selection import train_test_split\n",
    "from datasets import Dataset\n",
    "import torch\n",
    "from transformers import AutoTokenizer, AutoModelForSequenceClassification, TrainingArguments, Trainer, DataCollatorWithPadding\n",
    "import numpy as np\n",
    "from sklearn.metrics import accuracy_score, confusion_matrix\n",
    "from tqdm import tqdm\n",
    "import seaborn as sns\n",
    "import matplotlib.pyplot as plt"
   ]
  },
  {
   "cell_type": "markdown",
   "metadata": {},
   "source": [
    "### Loading and Filtering the Reviews Data\n",
    "This code loads the reviews dataset, filters reviews with specific ratings (1, 2, 4, 5), and classifies the reviews as 'Positive' or 'Negative' based on the rating. Finally, it selects 10 random reviews for display.\n"
   ]
  },
  {
   "cell_type": "code",
   "execution_count": 2,
   "metadata": {},
   "outputs": [
    {
     "data": {
      "text/html": [
       "<div>\n",
       "<style scoped>\n",
       "    .dataframe tbody tr th:only-of-type {\n",
       "        vertical-align: middle;\n",
       "    }\n",
       "\n",
       "    .dataframe tbody tr th {\n",
       "        vertical-align: top;\n",
       "    }\n",
       "\n",
       "    .dataframe thead th {\n",
       "        text-align: right;\n",
       "    }\n",
       "</style>\n",
       "<table border=\"1\" class=\"dataframe\">\n",
       "  <thead>\n",
       "    <tr style=\"text-align: right;\">\n",
       "      <th></th>\n",
       "      <th>no</th>\n",
       "      <th>review</th>\n",
       "      <th>rating</th>\n",
       "      <th>classification</th>\n",
       "    </tr>\n",
       "  </thead>\n",
       "  <tbody>\n",
       "    <tr>\n",
       "      <th>57655</th>\n",
       "      <td>224093</td>\n",
       "      <td>ضعيف جداً. حجزت ولما وصلت س 11 الظهر قالو لي ا...</td>\n",
       "      <td>1</td>\n",
       "      <td>Negative</td>\n",
       "    </tr>\n",
       "    <tr>\n",
       "      <th>42574</th>\n",
       "      <td>163946</td>\n",
       "      <td>رائع. النظافه ممتازه والموقع ممتاز قريب من بوا...</td>\n",
       "      <td>4</td>\n",
       "      <td>Positive</td>\n",
       "    </tr>\n",
       "    <tr>\n",
       "      <th>1691</th>\n",
       "      <td>6102</td>\n",
       "      <td>“رحلة ممتازة”. كل شي جميل ومناسب. النظافة</td>\n",
       "      <td>4</td>\n",
       "      <td>Positive</td>\n",
       "    </tr>\n",
       "    <tr>\n",
       "      <th>28639</th>\n",
       "      <td>110480</td>\n",
       "      <td>استثنائي. كل شي لا شي. لا شي</td>\n",
       "      <td>5</td>\n",
       "      <td>Positive</td>\n",
       "    </tr>\n",
       "    <tr>\n",
       "      <th>54029</th>\n",
       "      <td>211397</td>\n",
       "      <td>رائع. تسجيل دخول+ خروج سريع جدا جدا-- كلمتهم م...</td>\n",
       "      <td>4</td>\n",
       "      <td>Positive</td>\n",
       "    </tr>\n",
       "    <tr>\n",
       "      <th>45974</th>\n",
       "      <td>177181</td>\n",
       "      <td>“شكرا لكم”. الإفطار وخدمة العاملين بالمطعم. نظ...</td>\n",
       "      <td>4</td>\n",
       "      <td>Positive</td>\n",
       "    </tr>\n",
       "    <tr>\n",
       "      <th>100552</th>\n",
       "      <td>393253</td>\n",
       "      <td>“الفندق لايستحق”. . الخدمات والنظافه والمستوى ...</td>\n",
       "      <td>2</td>\n",
       "      <td>Negative</td>\n",
       "    </tr>\n",
       "    <tr>\n",
       "      <th>78127</th>\n",
       "      <td>303053</td>\n",
       "      <td>رائع. ممتاز غالبا. صغر السريرازعاج الشارع</td>\n",
       "      <td>4</td>\n",
       "      <td>Positive</td>\n",
       "    </tr>\n",
       "    <tr>\n",
       "      <th>67212</th>\n",
       "      <td>259780</td>\n",
       "      <td>مخيب للأمل. . النظافه</td>\n",
       "      <td>2</td>\n",
       "      <td>Negative</td>\n",
       "    </tr>\n",
       "    <tr>\n",
       "      <th>43893</th>\n",
       "      <td>168993</td>\n",
       "      <td>“انصح بالاقامة”. طيب التعامل. ونظافة المكان.</td>\n",
       "      <td>4</td>\n",
       "      <td>Positive</td>\n",
       "    </tr>\n",
       "  </tbody>\n",
       "</table>\n",
       "</div>"
      ],
      "text/plain": [
       "            no                                             review  rating  \\\n",
       "57655   224093  ضعيف جداً. حجزت ولما وصلت س 11 الظهر قالو لي ا...       1   \n",
       "42574   163946  رائع. النظافه ممتازه والموقع ممتاز قريب من بوا...       4   \n",
       "1691      6102          “رحلة ممتازة”. كل شي جميل ومناسب. النظافة       4   \n",
       "28639   110480                       استثنائي. كل شي لا شي. لا شي       5   \n",
       "54029   211397  رائع. تسجيل دخول+ خروج سريع جدا جدا-- كلمتهم م...       4   \n",
       "45974   177181  “شكرا لكم”. الإفطار وخدمة العاملين بالمطعم. نظ...       4   \n",
       "100552  393253  “الفندق لايستحق”. . الخدمات والنظافه والمستوى ...       2   \n",
       "78127   303053          رائع. ممتاز غالبا. صغر السريرازعاج الشارع       4   \n",
       "67212   259780                              مخيب للأمل. . النظافه       2   \n",
       "43893   168993      “انصح بالاقامة”. طيب التعامل. ونظافة المكان.        4   \n",
       "\n",
       "       classification  \n",
       "57655        Negative  \n",
       "42574        Positive  \n",
       "1691         Positive  \n",
       "28639        Positive  \n",
       "54029        Positive  \n",
       "45974        Positive  \n",
       "100552       Negative  \n",
       "78127        Positive  \n",
       "67212        Negative  \n",
       "43893        Positive  "
      ]
     },
     "execution_count": 2,
     "metadata": {},
     "output_type": "execute_result"
    }
   ],
   "source": [
    "# Load the reviews data with the correct encoding\n",
    "file_path = 'HARD-Arabic-Dataset-master/data/balanced-reviews.txt'  # Update with your actual file path\n",
    "df = pd.read_csv(file_path, sep='\\t', names=['no', 'Hotel name', 'rating', 'user type', 'room type', 'nights', 'review'], skiprows=1, encoding='utf-16')\n",
    "\n",
    "# Continue with filtering and classifying as before\n",
    "df_filtered = df[df['rating'].isin([1, 2, 4, 5])]\n",
    "selected_reviews = df_filtered.sample(n=10)\n",
    "\n",
    "def classify_review(row):\n",
    "    if row['rating'] in [4, 5]:\n",
    "        return 'Positive'\n",
    "    elif row['rating'] in [1, 2]:\n",
    "        return 'Negative'\n",
    "\n",
    "selected_reviews['classification'] = selected_reviews.apply(classify_review, axis=1)\n",
    "selected_reviews[['no','review', 'rating', 'classification']]\n"
   ]
  },
  {
   "cell_type": "markdown",
   "metadata": {},
   "source": [
    "### Load, Filter, and Split Reviews Dataset\n",
    "This code loads the reviews dataset, filters reviews based on specific ratings (1, 2, 4, and 5), and limits the total number of reviews to a maximum of 1000. It classifies the reviews as 'Positive' or 'Negative' based on their rating, saves the classified data to a CSV file, and then splits the dataset into 70% training and 30% testing data, saving them as separate CSV files.\n"
   ]
  },
  {
   "cell_type": "code",
   "execution_count": 3,
   "metadata": {},
   "outputs": [
    {
     "name": "stdout",
     "output_type": "stream",
     "text": [
      "Data saved to classified.csv, and split into train_reviews.csv and test_reviews.csv.\n"
     ]
    }
   ],
   "source": [
    "# Set the maximum number of reviews to use\n",
    "max_reviews = 1000\n",
    "\n",
    "# Load the reviews data with the correct encoding\n",
    "file_path = 'HARD-Arabic-Dataset-master/data/balanced-reviews.txt'  # Update with your actual file path\n",
    "df = pd.read_csv(file_path, sep='\\t', names=['no', 'Hotel name', 'rating', 'user type', 'room type', 'nights', 'review'], skiprows=1, encoding='utf-16')\n",
    "\n",
    "# Filter reviews with ratings 1, 2, 4, and 5\n",
    "df_filtered = df[df['rating'].isin([1, 2, 4, 5])]\n",
    "\n",
    "# Limit the number of reviews if max_reviews is set\n",
    "if max_reviews is not None:\n",
    "    df_filtered = df_filtered.head(max_reviews)\n",
    "\n",
    "# Function to classify reviews based on the rating\n",
    "def classify_review(row):\n",
    "    if row['rating'] in [4, 5]:\n",
    "        return 'Positive'\n",
    "    elif row['rating'] in [1, 2]:\n",
    "        return 'Negative'\n",
    "\n",
    "# Apply classification function to the dataset\n",
    "df_filtered['classification'] = df_filtered.apply(classify_review, axis=1)\n",
    "\n",
    "# Select necessary columns (id, review text, classification)\n",
    "df_classified = df_filtered[['no', 'review', 'classification']]\n",
    "\n",
    "# Save the classified reviews to a CSV file\n",
    "output_file = 'classified.csv'\n",
    "df_classified.to_csv(output_file, index=False, encoding='utf-16')\n",
    "\n",
    "# Split the data into 70% training and 30% testing\n",
    "train_data, test_data = train_test_split(df_classified, test_size=0.3, random_state=42)\n",
    "\n",
    "# Save the split datasets\n",
    "train_data.to_csv('train_reviews.csv', index=False, encoding='utf-16')\n",
    "test_data.to_csv('test_reviews.csv', index=False, encoding='utf-16')\n",
    "\n",
    "print(f\"Data saved to {output_file}, and split into train_reviews.csv and test_reviews.csv.\")\n"
   ]
  },
  {
   "cell_type": "markdown",
   "metadata": {},
   "source": [
    "### Load, Tokenize, and Train Arabic BERT Model\n",
    "This code loads the training and testing datasets, applies label encoding for 'Positive' and 'Negative' reviews, and tokenizes the review texts using a pre-trained Arabic BERT tokenizer. The data is then converted into Hugging Face dataset format. A BERT model for binary classification is loaded, training arguments are set, and a `Trainer` is defined for training and evaluating the model. The model is trained and evaluated, and then saved for future use.\n"
   ]
  },
  {
   "cell_type": "code",
   "execution_count": 4,
   "metadata": {},
   "outputs": [
    {
     "data": {
      "application/vnd.jupyter.widget-view+json": {
       "model_id": "ff0ccce28aac428fb6b6e041d03f9c8b",
       "version_major": 2,
       "version_minor": 0
      },
      "text/plain": [
       "Map:   0%|          | 0/700 [00:00<?, ? examples/s]"
      ]
     },
     "metadata": {},
     "output_type": "display_data"
    },
    {
     "data": {
      "application/vnd.jupyter.widget-view+json": {
       "model_id": "b2266e0aac374f2bb89cfd11782492df",
       "version_major": 2,
       "version_minor": 0
      },
      "text/plain": [
       "Map:   0%|          | 0/300 [00:00<?, ? examples/s]"
      ]
     },
     "metadata": {},
     "output_type": "display_data"
    },
    {
     "name": "stderr",
     "output_type": "stream",
     "text": [
      "Some weights of BertForSequenceClassification were not initialized from the model checkpoint at aubmindlab/bert-base-arabertv02 and are newly initialized: ['classifier.bias', 'classifier.weight']\n",
      "You should probably TRAIN this model on a down-stream task to be able to use it for predictions and inference.\n",
      "/home/faisal/anaconda3/lib/python3.10/site-packages/accelerate/accelerator.py:436: FutureWarning: Passing the following arguments to `Accelerator` is deprecated and will be removed in version 1.0 of Accelerate: dict_keys(['dispatch_batches', 'split_batches', 'even_batches', 'use_seedable_sampler']). Please pass an `accelerate.DataLoaderConfiguration` instead: \n",
      "dataloader_config = DataLoaderConfiguration(dispatch_batches=None, split_batches=False, even_batches=True, use_seedable_sampler=True)\n",
      "  warnings.warn(\n"
     ]
    },
    {
     "data": {
      "application/vnd.jupyter.widget-view+json": {
       "model_id": "a5f2901621684269844850d102f04f0a",
       "version_major": 2,
       "version_minor": 0
      },
      "text/plain": [
       "  0%|          | 0/525 [00:00<?, ?it/s]"
      ]
     },
     "metadata": {},
     "output_type": "display_data"
    },
    {
     "name": "stdout",
     "output_type": "stream",
     "text": [
      "{'loss': 0.8833, 'grad_norm': 12.013193130493164, 'learning_rate': 4.904761904761905e-05, 'epoch': 0.06}\n",
      "{'loss': 0.6425, 'grad_norm': 13.873727798461914, 'learning_rate': 4.80952380952381e-05, 'epoch': 0.11}\n",
      "{'loss': 0.7048, 'grad_norm': 12.114923477172852, 'learning_rate': 4.714285714285714e-05, 'epoch': 0.17}\n",
      "{'loss': 0.6975, 'grad_norm': 18.98808479309082, 'learning_rate': 4.6190476190476194e-05, 'epoch': 0.23}\n",
      "{'loss': 0.6568, 'grad_norm': 10.436185836791992, 'learning_rate': 4.523809523809524e-05, 'epoch': 0.29}\n",
      "{'loss': 0.5931, 'grad_norm': 10.012986183166504, 'learning_rate': 4.428571428571428e-05, 'epoch': 0.34}\n",
      "{'loss': 0.4463, 'grad_norm': 7.373181343078613, 'learning_rate': 4.3333333333333334e-05, 'epoch': 0.4}\n",
      "{'loss': 0.404, 'grad_norm': 12.96432113647461, 'learning_rate': 4.2380952380952385e-05, 'epoch': 0.46}\n",
      "{'loss': 0.346, 'grad_norm': 3.940561294555664, 'learning_rate': 4.1428571428571437e-05, 'epoch': 0.51}\n",
      "{'loss': 0.4246, 'grad_norm': 0.6863783597946167, 'learning_rate': 4.047619047619048e-05, 'epoch': 0.57}\n",
      "{'loss': 0.4096, 'grad_norm': 0.3029850423336029, 'learning_rate': 3.9523809523809526e-05, 'epoch': 0.63}\n",
      "{'loss': 0.1211, 'grad_norm': 0.2926437556743622, 'learning_rate': 3.857142857142858e-05, 'epoch': 0.69}\n",
      "{'loss': 0.4226, 'grad_norm': 0.7892218232154846, 'learning_rate': 3.761904761904762e-05, 'epoch': 0.74}\n",
      "{'loss': 0.1389, 'grad_norm': 0.07985979318618774, 'learning_rate': 3.6666666666666666e-05, 'epoch': 0.8}\n",
      "{'loss': 0.4296, 'grad_norm': 10.307435035705566, 'learning_rate': 3.571428571428572e-05, 'epoch': 0.86}\n",
      "{'loss': 0.356, 'grad_norm': 0.31675201654434204, 'learning_rate': 3.476190476190476e-05, 'epoch': 0.91}\n",
      "{'loss': 0.3592, 'grad_norm': 0.31447330117225647, 'learning_rate': 3.380952380952381e-05, 'epoch': 0.97}\n"
     ]
    },
    {
     "data": {
      "application/vnd.jupyter.widget-view+json": {
       "model_id": "c55a75f7662b4cd3a38f0f90d92a1b68",
       "version_major": 2,
       "version_minor": 0
      },
      "text/plain": [
       "  0%|          | 0/75 [00:00<?, ?it/s]"
      ]
     },
     "metadata": {},
     "output_type": "display_data"
    },
    {
     "name": "stdout",
     "output_type": "stream",
     "text": [
      "{'eval_loss': 0.23027002811431885, 'eval_accuracy': 0.9433333333333334, 'eval_runtime': 17.3028, 'eval_samples_per_second': 17.338, 'eval_steps_per_second': 4.335, 'epoch': 1.0}\n",
      "{'loss': 0.0566, 'grad_norm': 14.6848783493042, 'learning_rate': 3.285714285714286e-05, 'epoch': 1.03}\n",
      "{'loss': 0.1829, 'grad_norm': 0.05301804095506668, 'learning_rate': 3.19047619047619e-05, 'epoch': 1.09}\n",
      "{'loss': 0.022, 'grad_norm': 11.422714233398438, 'learning_rate': 3.095238095238095e-05, 'epoch': 1.14}\n",
      "{'loss': 0.1252, 'grad_norm': 0.05620420724153519, 'learning_rate': 3e-05, 'epoch': 1.2}\n",
      "{'loss': 0.8173, 'grad_norm': 0.1935669481754303, 'learning_rate': 2.9047619047619052e-05, 'epoch': 1.26}\n",
      "{'loss': 0.277, 'grad_norm': 12.082140922546387, 'learning_rate': 2.8095238095238096e-05, 'epoch': 1.31}\n",
      "{'loss': 0.0094, 'grad_norm': 0.44446492195129395, 'learning_rate': 2.714285714285714e-05, 'epoch': 1.37}\n",
      "{'loss': 0.1233, 'grad_norm': 0.24128805100917816, 'learning_rate': 2.6190476190476192e-05, 'epoch': 1.43}\n",
      "{'loss': 0.2575, 'grad_norm': 0.02411649003624916, 'learning_rate': 2.523809523809524e-05, 'epoch': 1.49}\n",
      "{'loss': 0.1687, 'grad_norm': 17.572715759277344, 'learning_rate': 2.4285714285714288e-05, 'epoch': 1.54}\n",
      "{'loss': 0.009, 'grad_norm': 0.06650562584400177, 'learning_rate': 2.3333333333333336e-05, 'epoch': 1.6}\n",
      "{'loss': 0.0044, 'grad_norm': 0.02508901245892048, 'learning_rate': 2.2380952380952384e-05, 'epoch': 1.66}\n",
      "{'loss': 0.1855, 'grad_norm': 0.016956357285380363, 'learning_rate': 2.1428571428571428e-05, 'epoch': 1.71}\n",
      "{'loss': 0.2917, 'grad_norm': 0.036717601120471954, 'learning_rate': 2.0476190476190476e-05, 'epoch': 1.77}\n",
      "{'loss': 0.2647, 'grad_norm': 0.10102635622024536, 'learning_rate': 1.9523809523809524e-05, 'epoch': 1.83}\n",
      "{'loss': 0.1808, 'grad_norm': 0.11151524633169174, 'learning_rate': 1.8571428571428572e-05, 'epoch': 1.89}\n",
      "{'loss': 0.0028, 'grad_norm': 0.10015373677015305, 'learning_rate': 1.761904761904762e-05, 'epoch': 1.94}\n",
      "{'loss': 0.1479, 'grad_norm': 0.13200688362121582, 'learning_rate': 1.6666666666666667e-05, 'epoch': 2.0}\n"
     ]
    },
    {
     "data": {
      "application/vnd.jupyter.widget-view+json": {
       "model_id": "4b0a8b4903184d9da389ec9ae14718bf",
       "version_major": 2,
       "version_minor": 0
      },
      "text/plain": [
       "  0%|          | 0/75 [00:00<?, ?it/s]"
      ]
     },
     "metadata": {},
     "output_type": "display_data"
    },
    {
     "name": "stdout",
     "output_type": "stream",
     "text": [
      "{'eval_loss': 0.205922469496727, 'eval_accuracy': 0.96, 'eval_runtime': 16.1378, 'eval_samples_per_second': 18.59, 'eval_steps_per_second': 4.647, 'epoch': 2.0}\n",
      "{'loss': 0.0025, 'grad_norm': 0.05932941287755966, 'learning_rate': 1.5714285714285715e-05, 'epoch': 2.06}\n",
      "{'loss': 0.1162, 'grad_norm': 0.051264550536870956, 'learning_rate': 1.4761904761904763e-05, 'epoch': 2.11}\n",
      "{'loss': 0.0015, 'grad_norm': 0.024795977398753166, 'learning_rate': 1.3809523809523811e-05, 'epoch': 2.17}\n",
      "{'loss': 0.001, 'grad_norm': 0.038362592458724976, 'learning_rate': 1.2857142857142857e-05, 'epoch': 2.23}\n",
      "{'loss': 0.1484, 'grad_norm': 0.01774595119059086, 'learning_rate': 1.1904761904761905e-05, 'epoch': 2.29}\n",
      "{'loss': 0.3338, 'grad_norm': 12.342565536499023, 'learning_rate': 1.0952380952380953e-05, 'epoch': 2.34}\n",
      "{'loss': 0.1402, 'grad_norm': 14.04440975189209, 'learning_rate': 1e-05, 'epoch': 2.4}\n",
      "{'loss': 0.0986, 'grad_norm': 15.40145492553711, 'learning_rate': 9.047619047619047e-06, 'epoch': 2.46}\n",
      "{'loss': 0.2481, 'grad_norm': 13.005966186523438, 'learning_rate': 8.095238095238097e-06, 'epoch': 2.51}\n",
      "{'loss': 0.1866, 'grad_norm': 0.07754138857126236, 'learning_rate': 7.142857142857143e-06, 'epoch': 2.57}\n",
      "{'loss': 0.1562, 'grad_norm': 0.04132123664021492, 'learning_rate': 6.190476190476191e-06, 'epoch': 2.63}\n",
      "{'loss': 0.1218, 'grad_norm': 0.5731301307678223, 'learning_rate': 5.2380952380952384e-06, 'epoch': 2.69}\n",
      "{'loss': 0.1, 'grad_norm': 0.03697953745722771, 'learning_rate': 4.285714285714286e-06, 'epoch': 2.74}\n",
      "{'loss': 0.0024, 'grad_norm': 0.15034058690071106, 'learning_rate': 3.3333333333333333e-06, 'epoch': 2.8}\n",
      "{'loss': 0.0859, 'grad_norm': 0.056794725358486176, 'learning_rate': 2.3809523809523808e-06, 'epoch': 2.86}\n",
      "{'loss': 0.0011, 'grad_norm': 0.07344642281532288, 'learning_rate': 1.4285714285714286e-06, 'epoch': 2.91}\n",
      "{'loss': 0.0018, 'grad_norm': 0.06489816308021545, 'learning_rate': 4.761904761904763e-07, 'epoch': 2.97}\n"
     ]
    },
    {
     "data": {
      "application/vnd.jupyter.widget-view+json": {
       "model_id": "4d279cfa4acd47d6a1fa05378246fd9b",
       "version_major": 2,
       "version_minor": 0
      },
      "text/plain": [
       "  0%|          | 0/75 [00:00<?, ?it/s]"
      ]
     },
     "metadata": {},
     "output_type": "display_data"
    },
    {
     "name": "stdout",
     "output_type": "stream",
     "text": [
      "{'eval_loss': 0.17589642107486725, 'eval_accuracy': 0.97, 'eval_runtime': 16.3827, 'eval_samples_per_second': 18.312, 'eval_steps_per_second': 4.578, 'epoch': 3.0}\n",
      "{'train_runtime': 384.8973, 'train_samples_per_second': 5.456, 'train_steps_per_second': 1.364, 'train_loss': 0.24589235386944244, 'epoch': 3.0}\n"
     ]
    },
    {
     "data": {
      "application/vnd.jupyter.widget-view+json": {
       "model_id": "b0d0c7db58ac4e31a58fce7b6c4f7b49",
       "version_major": 2,
       "version_minor": 0
      },
      "text/plain": [
       "  0%|          | 0/75 [00:00<?, ?it/s]"
      ]
     },
     "metadata": {},
     "output_type": "display_data"
    },
    {
     "data": {
      "text/plain": [
       "('arabic_bert_review_classifier/tokenizer_config.json',\n",
       " 'arabic_bert_review_classifier/special_tokens_map.json',\n",
       " 'arabic_bert_review_classifier/vocab.txt',\n",
       " 'arabic_bert_review_classifier/added_tokens.json',\n",
       " 'arabic_bert_review_classifier/tokenizer.json')"
      ]
     },
     "execution_count": 4,
     "metadata": {},
     "output_type": "execute_result"
    }
   ],
   "source": [
    "# Load the classified train and test data\n",
    "train_file = 'train_reviews.csv'\n",
    "test_file = 'test_reviews.csv'\n",
    "\n",
    "train_df = pd.read_csv(train_file, encoding='utf-16')\n",
    "test_df = pd.read_csv(test_file, encoding='utf-16')\n",
    "\n",
    "# Labeling the data (1 for Positive, 0 for Negative)\n",
    "train_df['label'] = train_df['classification'].apply(lambda x: 1 if x == 'Positive' else 0)\n",
    "test_df['label'] = test_df['classification'].apply(lambda x: 1 if x == 'Positive' else 0)\n",
    "\n",
    "# Split texts and labels\n",
    "train_texts = train_df['review'].tolist()\n",
    "train_labels = train_df['label'].tolist()\n",
    "test_texts = test_df['review'].tolist()\n",
    "test_labels = test_df['label'].tolist()\n",
    "\n",
    "# Load pre-trained tokenizer for Arabic BERT model\n",
    "tokenizer = AutoTokenizer.from_pretrained(\"aubmindlab/bert-base-arabertv02\")\n",
    "\n",
    "# Tokenize the dataset\n",
    "def tokenize_function(examples):\n",
    "    return tokenizer(examples['text'], padding='max_length', truncation=True)\n",
    "\n",
    "# Create Hugging Face datasets\n",
    "train_dataset = Dataset.from_dict({'text': train_texts, 'label': train_labels})\n",
    "test_dataset = Dataset.from_dict({'text': test_texts, 'label': test_labels})\n",
    "\n",
    "train_dataset = train_dataset.map(tokenize_function, batched=True)\n",
    "test_dataset = test_dataset.map(tokenize_function, batched=True)\n",
    "\n",
    "# Load BERT model for binary classification\n",
    "model = AutoModelForSequenceClassification.from_pretrained(\"aubmindlab/bert-base-arabertv02\", num_labels=2)\n",
    "\n",
    "# Define accuracy metric function\n",
    "def compute_metrics(p):\n",
    "    preds = np.argmax(p.predictions, axis=1)  # Get the predicted class\n",
    "    acc = accuracy_score(p.label_ids, preds)  # Calculate accuracy\n",
    "    return {\"accuracy\": acc}\n",
    "\n",
    "# Define training arguments\n",
    "training_args = TrainingArguments(\n",
    "    output_dir=\"./results\",\n",
    "    evaluation_strategy=\"epoch\",  # Evaluate after each epoch\n",
    "    save_strategy=\"epoch\",\n",
    "    logging_dir='./logs',\n",
    "    per_device_train_batch_size=4,\n",
    "    per_device_eval_batch_size=4,\n",
    "    num_train_epochs=3,\n",
    "    weight_decay=0.01,\n",
    "    logging_steps=10\n",
    ")\n",
    "\n",
    "# Create a data collator that dynamically pads inputs\n",
    "data_collator = DataCollatorWithPadding(tokenizer=tokenizer)\n",
    "\n",
    "# Define Trainer\n",
    "trainer = Trainer(\n",
    "    model=model,\n",
    "    args=training_args,\n",
    "    train_dataset=train_dataset,\n",
    "    eval_dataset=test_dataset,\n",
    "    tokenizer=tokenizer,\n",
    "    data_collator=data_collator,\n",
    "    compute_metrics=compute_metrics  # Add the metrics function here\n",
    ")\n",
    "\n",
    "# Train the model\n",
    "trainer.train()\n",
    "\n",
    "# Evaluate the model\n",
    "trainer.evaluate()\n",
    "\n",
    "# Save the model for future use\n",
    "model.save_pretrained(\"arabic_bert_review_classifier\")\n",
    "tokenizer.save_pretrained(\"arabic_bert_review_classifier\")"
   ]
  },
  {
   "cell_type": "markdown",
   "metadata": {},
   "source": [
    "### Load Data, Predict Classifications, and Display Confusion Matrix\n",
    "This code block loads the dataset of hotel reviews, filters them based on their ratings (1, 2 for 'Negative' and 4, 5 for 'Positive'), and applies a pre-trained Arabic BERT model to predict whether each review is 'Positive' or 'Negative'. It calculates the accuracy of the model's predictions, generates a confusion matrix to visualize the classification performance, and saves the final output with the actual and predicted classifications to a CSV file.\n"
   ]
  },
  {
   "cell_type": "code",
   "execution_count": 8,
   "metadata": {},
   "outputs": [
    {
     "name": "stderr",
     "output_type": "stream",
     "text": [
      "Processing Batches: 100%|██████████| 1652/1652 [2:22:43<00:00,  5.18s/batch] \n"
     ]
    },
    {
     "name": "stdout",
     "output_type": "stream",
     "text": [
      "Model Accuracy: 93.35%\n"
     ]
    },
    {
     "data": {
      "image/png": "[encoded data removed]",
      "text/plain": [
       "<Figure size 600x400 with 2 Axes>"
      ]
     },
     "metadata": {},
     "output_type": "display_data"
    },
    {
     "name": "stdout",
     "output_type": "stream",
     "text": [
      "Predictions saved to model_predictions.csv.\n"
     ]
    }
   ],
   "source": [
    "# Load the reviews data with the correct encoding\n",
    "file_path = 'HARD-Arabic-Dataset-master/data/balanced-reviews.txt'  # Update with your actual file path\n",
    "df = pd.read_csv(file_path, sep='\\t', names=['no', 'Hotel name', 'rating', 'user type', 'room type', 'nights', 'review'], skiprows=1, encoding='utf-16')\n",
    "\n",
    "# Filter reviews with ratings 1, 2, 4, and 5\n",
    "df_filtered = df[df['rating'].isin([1, 2, 4, 5])]\n",
    "\n",
    "# Limit the number of reviews\n",
    "# df_filtered = df_filtered.head(5000)\n",
    "\n",
    "# Function to classify reviews based on the rating\n",
    "def classify_review(row):\n",
    "    if row['rating'] in [4, 5]:\n",
    "        return 'Positive'\n",
    "    elif row['rating'] in [1, 2]:\n",
    "        return 'Negative'\n",
    "\n",
    "# Apply classification function to the dataset\n",
    "df_filtered['classification'] = df_filtered.apply(classify_review, axis=1)\n",
    "\n",
    "# Load pre-trained tokenizer and model for Arabic BERT\n",
    "tokenizer = AutoTokenizer.from_pretrained(\"aubmindlab/bert-base-arabertv02\")\n",
    "model = AutoModelForSequenceClassification.from_pretrained(\"arabic_bert_review_classifier\")  # Load the trained model\n",
    "\n",
    "# Use GPU if available for faster performance\n",
    "device = torch.device(\"cuda\" if torch.cuda.is_available() else \"cpu\")\n",
    "model.to(device)\n",
    "\n",
    "# Function to predict classifications in batches with progress bar\n",
    "def predict_in_batches(reviews, batch_size):\n",
    "    predictions = []\n",
    "    for i in tqdm(range(0, len(reviews), batch_size), desc=\"Processing Batches\", unit=\"batch\"):\n",
    "        batch_reviews = reviews[i:i + batch_size]\n",
    "        inputs = tokenizer(batch_reviews, padding='max_length', truncation=True, return_tensors='pt', max_length=512).to(device)\n",
    "        with torch.no_grad():\n",
    "            outputs = model(**inputs)\n",
    "            preds = np.argmax(outputs.logits.cpu().numpy(), axis=1)  # Move to CPU before converting to NumPy\n",
    "            predictions.extend(preds)\n",
    "    return predictions\n",
    "\n",
    "# Predict classifications for all reviews in batches\n",
    "predictions = predict_in_batches(df_filtered['review'].tolist(), batch_size=64)\n",
    "\n",
    "# Map the predictions to the corresponding labels\n",
    "df_filtered['model_classification'] = ['Positive' if pred == 1 else 'Negative' for pred in predictions]\n",
    "df_filtered['model_correct'] = df_filtered['classification'] == df_filtered['model_classification']\n",
    "\n",
    "# Calculate accuracy\n",
    "accuracy = df_filtered['model_correct'].mean() * 100\n",
    "print(f\"Model Accuracy: {accuracy:.2f}%\")\n",
    "\n",
    "# Generate confusion matrix\n",
    "y_true = df_filtered['classification']\n",
    "y_pred = df_filtered['model_classification']\n",
    "cm = confusion_matrix(y_true, y_pred, labels=['Positive', 'Negative'])\n",
    "\n",
    "# Plot confusion matrix\n",
    "plt.figure(figsize=(6, 4))\n",
    "sns.heatmap(cm, annot=True, fmt=\"d\", cmap=\"Blues\", xticklabels=['Positive', 'Negative'], yticklabels=['Positive', 'Negative'])\n",
    "plt.xlabel(\"Predicted\")\n",
    "plt.ylabel(\"True\")\n",
    "plt.title(\"Confusion Matrix\")\n",
    "plt.show()\n",
    "\n",
    "# Select necessary columns for the final output\n",
    "output_df = df_filtered[['no', 'Hotel name', 'rating', 'user type', 'room type', 'nights', 'review', 'classification', 'model_classification', 'model_correct']]\n",
    "\n",
    "# Save the final DataFrame to a CSV file\n",
    "output_file = 'model_predictions.csv'\n",
    "output_df.to_csv(output_file, index=False, encoding='utf-16')\n",
    "\n",
    "print(f\"Predictions saved to {output_file}.\")"
   ]
  },
  {
   "cell_type": "markdown",
   "metadata": {},
   "source": [
    "### Display Examples of True Positive, True Negative, False Positive, and False Negative\n",
    "This block defines conditions for four classification outcomes: True Positive, True Negative, False Positive, and False Negative. It then selects 5 review examples from each category and prints their review ID, rating, review text, model's predicted classification, and the true classification for comparison.\n"
   ]
  },
  {
   "cell_type": "code",
   "execution_count": 9,
   "metadata": {},
   "outputs": [
    {
     "name": "stdout",
     "output_type": "stream",
     "text": [
      "\n",
      "True Positive Examples:\n",
      "Review ID: 3\n",
      "Rating: 5\n",
      "Review: استثنائي. سهولة إنهاء المعاملة في الاستقبال. لاشيئ\n",
      "Model Classification: Positive\n",
      "True Classification: Positive\n",
      "--------------------------------------------------------------------------------\n",
      "Review ID: 16\n",
      "Rating: 5\n",
      "Review: استثنائي. انصح بأختيار الاسويت و بالاخص غرفه رقم 801. نوعية الارضيه\n",
      "Model Classification: Positive\n",
      "True Classification: Positive\n",
      "--------------------------------------------------------------------------------\n",
      "Review ID: 23\n",
      "Rating: 4\n",
      "Review: جيد. المكان جميل وهاديء. كل شي جيد ونظيف بس كان حوض السباحه لايعمل في هذي الفتره حسب كلامهم يقولوا فيه صيانه والله اعلم\n",
      "Model Classification: Positive\n",
      "True Classification: Positive\n",
      "--------------------------------------------------------------------------------\n",
      "Review ID: 24\n",
      "Rating: 5\n",
      "Review: ممتاز. موقع الفندق ونظافته والاطلاله على البحر وجزيرة  النور التي تحتوي على الفراشات وكذلك قربه من المسجد والممشى  توفر المواقف بجانب الفندق وخدمة صف السيارات. المسبح كان مغلق للصيانه  المواقف تحتاج الى مظلات\n",
      "Model Classification: Positive\n",
      "True Classification: Positive\n",
      "--------------------------------------------------------------------------------\n",
      "Review ID: 25\n",
      "Rating: 5\n",
      "Review: “جيدجداً”. الافطار جيد والسرير ممتاز ومريح واطلالة الغرفة رائعه. فرش ارضية الغرفه\n",
      "Model Classification: Positive\n",
      "True Classification: Positive\n",
      "--------------------------------------------------------------------------------\n",
      "\n",
      "True Negative Examples:\n",
      "Review ID: 20\n",
      "Rating: 1\n",
      "Review: “استغرب تقييم الفندق كخمس نجوم”. لا شي. يستحق 2 نجمه \n",
      "Model Classification: Negative\n",
      "True Classification: Negative\n",
      "--------------------------------------------------------------------------------\n",
      "Review ID: 78\n",
      "Rating: 2\n",
      "Review: “موظف المسبح سيء جدا”. . موظف المسبح سيء جدامعظم الوقت المسبح للصيانهالفندق ليس خمس نجوم كما يدعونالفندق لا يستحق هذا المبلغهناك فنادق افضل منه وبسعر اقل جدا\n",
      "Model Classification: Negative\n",
      "True Classification: Negative\n",
      "--------------------------------------------------------------------------------\n",
      "Review ID: 112\n",
      "Rating: 1\n",
      "Review: ضعيف جداً. . لم اتوقع الانحدار الذي وصلته الكويت بمستوى شققها للاسف\n",
      "Model Classification: Negative\n",
      "True Classification: Negative\n",
      "--------------------------------------------------------------------------------\n",
      "Review ID: 118\n",
      "Rating: 2\n",
      "Review: “السعودية”. . تعملالموظفين\n",
      "Model Classification: Negative\n",
      "True Classification: Negative\n",
      "--------------------------------------------------------------------------------\n",
      "Review ID: 132\n",
      "Rating: 2\n",
      "Review: مخيب للأمل. اكثر الفنادق تقدر تسوي جك أوت الساعه 2 او 3 الظهر هذا الفندق اذا تعدت الساعه 12 يحسب جارج عليك 200 درهم وحجز الفندق 370 درهم ماخذ فوق سعر الليله. تعاملهم\n",
      "Model Classification: Negative\n",
      "True Classification: Negative\n",
      "--------------------------------------------------------------------------------\n",
      "\n",
      "False Positive Examples:\n",
      "Review ID: 2\n",
      "Rating: 2\n",
      "Review: “ممتاز”. النظافة والطاقم متعاون. \n",
      "Model Classification: Positive\n",
      "True Classification: Negative\n",
      "--------------------------------------------------------------------------------\n",
      "Review ID: 49\n",
      "Rating: 1\n",
      "Review: “أسرة اماراتية.”. فندق مبنى على الطراز الحديث، وكل الديكورات والاثاث مميز وراقي.. لا شئ.\n",
      "Model Classification: Positive\n",
      "True Classification: Negative\n",
      "--------------------------------------------------------------------------------\n",
      "Review ID: 81\n",
      "Rating: 1\n",
      "Review: “اقامة ممتعة”. . الموقع والنظافة\n",
      "Model Classification: Positive\n",
      "True Classification: Negative\n",
      "--------------------------------------------------------------------------------\n",
      "Review ID: 690\n",
      "Rating: 2\n",
      "Review: “جيد”. الغرفة والصالة جيدة وواسعة. الحمام صغير جداارضية الغرفة قديمة والبلاط غير ثابتالافطار فقير جدا\n",
      "Model Classification: Positive\n",
      "True Classification: Negative\n",
      "--------------------------------------------------------------------------------\n",
      "Review ID: 1306\n",
      "Rating: 2\n",
      "Review: “ممتاز”. كل شئ أعجبني. البعد عن المدينه والتكلفه العاليه للتكاسي\n",
      "Model Classification: Positive\n",
      "True Classification: Negative\n",
      "--------------------------------------------------------------------------------\n",
      "\n",
      "False Negative Examples:\n",
      "Review ID: 203\n",
      "Rating: 4\n",
      "Review: “الفندق مستواه لايستحق أكثر من ٤ نجوم”. الموقع وديكور الغرفة. الأثاث متسخ وطلبت تأخير بالمغادرة كان ردهم حاسم إذا تأخرت سوف نحسب عليك نصف يومالفندق صغير جداً ولا يوحي ب ٥ نجوم بل ٤ نجوم\n",
      "Model Classification: Negative\n",
      "True Classification: Positive\n",
      "--------------------------------------------------------------------------------\n",
      "Review ID: 585\n",
      "Rating: 5\n",
      "Review: “السعوديه القصيم”. النظافه . الهدوء و. ارتفاع سعر الخدمات و ضعف الواي فاي\n",
      "Model Classification: Negative\n",
      "True Classification: Positive\n",
      "--------------------------------------------------------------------------------\n",
      "Review ID: 1193\n",
      "Rating: 4\n",
      "Review: “صادق”. استقبال و تعامل طاقم العمل. إزعاج السياراتعدم توفر مواقف بدون قطع الشارعضعف الماء في دش الاستحمام\n",
      "Model Classification: Negative\n",
      "True Classification: Positive\n",
      "--------------------------------------------------------------------------------\n",
      "Review ID: 1258\n",
      "Rating: 5\n",
      "Review: “سائح عربي ومسلم”. وجود باص ترددي. عدم وجود مصلى خاصة انخ لا يوجد مساجد قريبة للصلاة وخاصة الجمعة\n",
      "Model Classification: Negative\n",
      "True Classification: Positive\n",
      "--------------------------------------------------------------------------------\n",
      "Review ID: 1413\n",
      "Rating: 4\n",
      "Review: “تجربة سيئة”. . أكدت حجزي عن طريق بطاقة إتمانية \" فيزا \"وتم حسم المبلغ المستحق للفندق بالكامل قبل ٢٤ ساعة من الحضور ..وعند وصولي طُلب مني بطاقة الإتمان أو الدفع \" كاش \" !!وهذا خطأ كبير تسبب لي في إرباك ميزانية الرحلةخصوصاً وأن حجزي كان لشقتين .\n",
      "Model Classification: Negative\n",
      "True Classification: Positive\n",
      "--------------------------------------------------------------------------------\n"
     ]
    }
   ],
   "source": [
    "# Define conditions for True Positive, True Negative, False Positive, and False Negative\n",
    "true_positive = df_filtered[(df_filtered['classification'] == 'Positive') & (df_filtered['model_classification'] == 'Positive')]\n",
    "true_negative = df_filtered[(df_filtered['classification'] == 'Negative') & (df_filtered['model_classification'] == 'Negative')]\n",
    "false_positive = df_filtered[(df_filtered['classification'] == 'Negative') & (df_filtered['model_classification'] == 'Positive')]\n",
    "false_negative = df_filtered[(df_filtered['classification'] == 'Positive') & (df_filtered['model_classification'] == 'Negative')]\n",
    "\n",
    "# Function to display 5 examples for each case\n",
    "def display_examples(df, case_name):\n",
    "    print(f\"\\n{case_name} Examples:\")\n",
    "    for index, row in df.head(5).iterrows():\n",
    "        print(f\"Review ID: {row['no']}\")\n",
    "        print(f\"Rating: {row['rating']}\")\n",
    "        print(f\"Review: {row['review']}\")\n",
    "        print(f\"Model Classification: {row['model_classification']}\")\n",
    "        print(f\"True Classification: {row['classification']}\")\n",
    "        print(\"-\" * 80)\n",
    "\n",
    "# Display 5 examples of each case\n",
    "display_examples(true_positive, \"True Positive\")\n",
    "display_examples(true_negative, \"True Negative\")\n",
    "display_examples(false_positive, \"False Positive\")\n",
    "display_examples(false_negative, \"False Negative\")\n"
   ]
  }
 ],
 "metadata": {
  "kernelspec": {
   "display_name": "base",
   "language": "python",
   "name": "python3"
  },
  "language_info": {
   "codemirror_mode": {
    "name": "ipython",
    "version": 3
   },
   "file_extension": ".py",
   "mimetype": "text/x-python",
   "name": "python",
   "nbconvert_exporter": "python",
   "pygments_lexer": "ipython3",
   "version": "3.10.9"
  }
 },
 "nbformat": 4,
 "nbformat_minor": 2
}
